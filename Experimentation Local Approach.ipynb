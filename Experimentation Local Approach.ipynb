{
 "cells": [
  {
   "cell_type": "markdown",
   "metadata": {
    "application/vnd.databricks.v1+cell": {
     "cellMetadata": {},
     "inputWidgets": {},
     "nuid": "c08c3896-4fd8-4c1e-99f9-727420c4326b",
     "showTitle": false,
     "title": ""
    }
   },
   "source": [
    "### Import the Necessary Libraries"
   ]
  },
  {
   "cell_type": "code",
   "execution_count": 0,
   "metadata": {
    "application/vnd.databricks.v1+cell": {
     "cellMetadata": {
      "byteLimit": 2048000,
      "rowLimit": 10000
     },
     "inputWidgets": {},
     "nuid": "565b1ea1-b22f-4bb8-ba11-4a31a9b6408e",
     "showTitle": false,
     "title": ""
    }
   },
   "outputs": [],
   "source": [
    "import time\n",
    "from pyspark.ml.feature import StringIndexer, Word2Vec\n",
    "from pyspark.ml import Pipeline\n",
    "from pyspark.sql import functions as F, Row\n",
    "import numpy as np\n",
    "from sklearn import svm\n",
    "from pyspark.ml.evaluation import MulticlassClassificationEvaluator\n",
    "from statistics import mode\n",
    "from pyspark.sql import Row\n",
    "import pandas as pd\n",
    "import matplotlib.pyplot as plt"
   ]
  },
  {
   "cell_type": "markdown",
   "metadata": {
    "application/vnd.databricks.v1+cell": {
     "cellMetadata": {},
     "inputWidgets": {},
     "nuid": "fe92adf0-7a9e-4f41-a3ff-38bb4ed963d6",
     "showTitle": false,
     "title": ""
    }
   },
   "source": [
    "### Read the dataset"
   ]
  },
  {
   "cell_type": "code",
   "execution_count": 0,
   "metadata": {
    "application/vnd.databricks.v1+cell": {
     "cellMetadata": {
      "byteLimit": 2048000,
      "rowLimit": 10000
     },
     "inputWidgets": {},
     "nuid": "ea149e09-0d37-42b0-aa5c-9d29e6a65d6c",
     "showTitle": false,
     "title": ""
    }
   },
   "outputs": [],
   "source": [
    "df = spark.read.parquet('/mnt/2024-team20/labelled_datasets_parquet')"
   ]
  },
  {
   "cell_type": "markdown",
   "metadata": {
    "application/vnd.databricks.v1+cell": {
     "cellMetadata": {},
     "inputWidgets": {},
     "nuid": "fc8d2f65-7ff7-4c9f-a46f-3e168525edc3",
     "showTitle": false,
     "title": ""
    }
   },
   "source": [
    "### Create a pipeline\n",
    "\n",
    "This pipeline comprises several stages for processing text data:\n",
    "- **Word2Vec**: Converts lemmatized tokens into vectors of numerical features, facilitating machine learning on textual input.\n",
    "- **StringIndexer**: Encodes string sentiment labels into numerical indices, a necessary step for model training."
   ]
  },
  {
   "cell_type": "code",
   "execution_count": 0,
   "metadata": {
    "application/vnd.databricks.v1+cell": {
     "cellMetadata": {
      "byteLimit": 2048000,
      "rowLimit": 10000
     },
     "inputWidgets": {},
     "nuid": "a492efc8-1564-46e9-b254-e91489484613",
     "showTitle": false,
     "title": ""
    }
   },
   "outputs": [],
   "source": [
    "word2Vec = Word2Vec(vectorSize=100, minCount=0, inputCol='lemmatized_tokens', outputCol='features')\n",
    "\n",
    "stringIndexer = StringIndexer(inputCol='sentiment', outputCol = 'label')\n",
    "\n",
    "encoding_pipeline = Pipeline(stages=[word2Vec, stringIndexer])"
   ]
  },
  {
   "cell_type": "markdown",
   "metadata": {
    "application/vnd.databricks.v1+cell": {
     "cellMetadata": {},
     "inputWidgets": {},
     "nuid": "8574c88d-5075-4a66-a487-29e1379c122d",
     "showTitle": false,
     "title": ""
    }
   },
   "source": [
    "### Split the data into Train and Test"
   ]
  },
  {
   "cell_type": "code",
   "execution_count": 0,
   "metadata": {
    "application/vnd.databricks.v1+cell": {
     "cellMetadata": {
      "byteLimit": 2048000,
      "rowLimit": 10000
     },
     "inputWidgets": {},
     "nuid": "d3597726-91b5-4cd6-88a1-85c032b49033",
     "showTitle": false,
     "title": ""
    }
   },
   "outputs": [],
   "source": [
    "train_df, test_df = df.randomSplit([0.70, 0.30], seed = 0)"
   ]
  },
  {
   "cell_type": "markdown",
   "metadata": {
    "application/vnd.databricks.v1+cell": {
     "cellMetadata": {},
     "inputWidgets": {},
     "nuid": "df99b201-4464-458a-9f29-d94d3f18a016",
     "showTitle": false,
     "title": ""
    }
   },
   "source": [
    "### Fit the pipeline on the Training Data"
   ]
  },
  {
   "cell_type": "code",
   "execution_count": 0,
   "metadata": {
    "application/vnd.databricks.v1+cell": {
     "cellMetadata": {
      "byteLimit": 2048000,
      "rowLimit": 10000
     },
     "inputWidgets": {},
     "nuid": "66a736cc-d356-4e39-8068-4a6274def68b",
     "showTitle": false,
     "title": ""
    }
   },
   "outputs": [],
   "source": [
    "pipeline = encoding_pipeline.fit(train_df)"
   ]
  },
  {
   "cell_type": "markdown",
   "metadata": {
    "application/vnd.databricks.v1+cell": {
     "cellMetadata": {},
     "inputWidgets": {},
     "nuid": "286e2d75-fbc4-471f-886e-c08d42cb54e6",
     "showTitle": false,
     "title": ""
    }
   },
   "source": [
    "### Transform Train and Test Data for Machine Learning"
   ]
  },
  {
   "cell_type": "code",
   "execution_count": 0,
   "metadata": {
    "application/vnd.databricks.v1+cell": {
     "cellMetadata": {
      "byteLimit": 2048000,
      "rowLimit": 10000
     },
     "inputWidgets": {},
     "nuid": "665318a8-d633-4ffd-8550-a729266cee5c",
     "showTitle": false,
     "title": ""
    }
   },
   "outputs": [],
   "source": [
    "model_data_train = pipeline.transform(train_df).select(F.col('features'), F.col('label'))\n",
    "\n",
    "model_data_test = pipeline.transform(test_df).select(F.col('features'), F.col('label'))"
   ]
  },
  {
   "cell_type": "markdown",
   "metadata": {
    "application/vnd.databricks.v1+cell": {
     "cellMetadata": {},
     "inputWidgets": {},
     "nuid": "a1dcdd7c-ba0b-4c3d-b40e-060c65b260f5",
     "showTitle": false,
     "title": ""
    }
   },
   "source": [
    "### Repartition the Training data\n",
    "\n",
    "The number of partitions in the train dataframe alternates between 5 and 12. We have standardized this by repartitioning to 12 for consistency"
   ]
  },
  {
   "cell_type": "code",
   "execution_count": 0,
   "metadata": {
    "application/vnd.databricks.v1+cell": {
     "cellMetadata": {
      "byteLimit": 2048000,
      "rowLimit": 10000
     },
     "inputWidgets": {},
     "nuid": "141be116-dad8-491f-a3fb-cc4bc8209342",
     "showTitle": false,
     "title": ""
    }
   },
   "outputs": [],
   "source": [
    "\n",
    "model_data_train = model_data_train.repartition(12)"
   ]
  },
  {
   "cell_type": "markdown",
   "metadata": {
    "application/vnd.databricks.v1+cell": {
     "cellMetadata": {},
     "inputWidgets": {},
     "nuid": "c3060088-b1ed-4ee8-846a-c6b587072b83",
     "showTitle": false,
     "title": ""
    }
   },
   "source": [
    "### Cache Model Data\n",
    "\n",
    "To optimize performance, `model_data_train` and `model_data_test` are cached in memory, as they are accessed multiple times during processing. Caching minimizes data retrieval latency and enhances computation efficiency."
   ]
  },
  {
   "cell_type": "code",
   "execution_count": 0,
   "metadata": {
    "application/vnd.databricks.v1+cell": {
     "cellMetadata": {
      "byteLimit": 2048000,
      "rowLimit": 10000
     },
     "inputWidgets": {},
     "nuid": "4f8284ce-f5d3-4901-b218-5cea6ed2dd92",
     "showTitle": false,
     "title": ""
    }
   },
   "outputs": [],
   "source": [
    "model_data_train.cache()\n",
    "\n",
    "model_data_test_rdd = model_data_test.rdd.cache()"
   ]
  },
  {
   "cell_type": "markdown",
   "metadata": {
    "application/vnd.databricks.v1+cell": {
     "cellMetadata": {},
     "inputWidgets": {},
     "nuid": "2b54f60c-4f76-4991-ab92-4272f240a593",
     "showTitle": false,
     "title": ""
    }
   },
   "source": [
    "### Define a Model Training Function"
   ]
  },
  {
   "cell_type": "code",
   "execution_count": 0,
   "metadata": {
    "application/vnd.databricks.v1+cell": {
     "cellMetadata": {
      "byteLimit": 2048000,
      "rowLimit": 10000
     },
     "inputWidgets": {},
     "nuid": "65d50504-1de2-4a7b-be28-37dd39758a98",
     "showTitle": false,
     "title": ""
    }
   },
   "outputs": [],
   "source": [
    "def build_model(partition_iter):\n",
    "  \n",
    "  start_time = time.time()\n",
    "    \n",
    "  partition_data = list(partition_iter)\n",
    "\n",
    "  X_train = np.array([row.features.toArray() for row in partition_data])\n",
    "\n",
    "  Y_train = np.array([row.label for row in partition_data])\n",
    "\n",
    "  svm_classifier = svm.LinearSVC(random_state=0)\n",
    "\n",
    "  model = svm_classifier.fit(X_train, Y_train)\n",
    "  \n",
    "  training_time = time.time() - start_time  \n",
    "  \n",
    "  return [(model, training_time)]"
   ]
  },
  {
   "cell_type": "markdown",
   "metadata": {
    "application/vnd.databricks.v1+cell": {
     "cellMetadata": {},
     "inputWidgets": {},
     "nuid": "bca41ae6-900c-46b9-b5aa-773dbc779ac7",
     "showTitle": false,
     "title": ""
    }
   },
   "source": [
    "### Ensemble Effect Check\n",
    "\n",
    "For our ensemble effect check, we will vary the number of partitions from 12 to 18 to observe changes in training time and accuracy. Due to variability in performance across different runs, we decided to run each partition size three times and calculate the average training time and accuracy.\n",
    "\n",
    "We will run this process four times independently and calculate the average training and running times. Automating these runs proved to be challenging, so we had to run this one after the other."
   ]
  },
  {
   "cell_type": "markdown",
   "metadata": {
    "application/vnd.databricks.v1+cell": {
     "cellMetadata": {},
     "inputWidgets": {},
     "nuid": "597b76c3-afb3-4111-8666-ee2050cf0993",
     "showTitle": false,
     "title": ""
    }
   },
   "source": [
    "#### First Run"
   ]
  },
  {
   "cell_type": "code",
   "execution_count": 0,
   "metadata": {
    "application/vnd.databricks.v1+cell": {
     "cellMetadata": {
      "byteLimit": 2048000,
      "rowLimit": 10000
     },
     "inputWidgets": {},
     "nuid": "37af0ada-2da8-4e69-92a6-8180cd33ffe5",
     "showTitle": false,
     "title": ""
    }
   },
   "outputs": [],
   "source": [
    "experiment_result = []\n",
    "\n",
    "for i in range(12, 19):\n",
    "  \n",
    "  model_data_train_rdd = model_data_train.rdd.repartition(i)\n",
    "\n",
    "  model_data_train_rdd.foreach(lambda x: None)\n",
    "  \n",
    "  model_time_pairs = model_data_train_rdd.mapPartitions(build_model).collect()\n",
    "\n",
    "  total_training_time = sum(time for _, time in model_time_pairs)\n",
    "\n",
    "  models = [model for model, _ in model_time_pairs]\n",
    "\n",
    "  def predict(instance):\n",
    "\n",
    "      inst_features = np.array(instance[:-1]).reshape(1, -1)\n",
    "\n",
    "      predictions = [model.predict(inst_features)[0] for model in models]\n",
    "\n",
    "      return predictions\n",
    "\n",
    "  def transform(instance):\n",
    "\n",
    "      predictions = predict(instance)\n",
    "\n",
    "      prediction_mode = max(set(predictions), key=predictions.count)\n",
    "\n",
    "      return Row(**instance.asDict(), raw_prediction=float(prediction_mode))\n",
    "\n",
    "  pred_df = model_data_test_rdd.map(transform).toDF()\n",
    "\n",
    "  evaluator = MulticlassClassificationEvaluator(labelCol='label', predictionCol='raw_prediction', metricName='accuracy')\n",
    "\n",
    "  accuracy = evaluator.evaluate(pred_df)\n",
    "\n",
    "  experiment_result.append((i, total_training_time, accuracy))"
   ]
  },
  {
   "cell_type": "code",
   "execution_count": 0,
   "metadata": {
    "application/vnd.databricks.v1+cell": {
     "cellMetadata": {
      "byteLimit": 2048000,
      "rowLimit": 10000
     },
     "inputWidgets": {},
     "nuid": "f1a04585-3e89-40b6-8ace-91846b51c773",
     "showTitle": false,
     "title": ""
    }
   },
   "outputs": [
    {
     "output_type": "execute_result",
     "data": {
      "text/plain": [
       "[(12, 1722.1466851234436, 0.6807533229778328),\n",
       " (13, 1543.7937259674072, 0.6809015107211186),\n",
       " (14, 1572.420075893402, 0.6810549908838076),\n",
       " (15, 1546.502069234848, 0.6806368897509653),\n",
       " (16, 1721.7115077972412, 0.6810444060450015),\n",
       " (17, 1784.22993850708, 0.6808009547524603),\n",
       " (18, 1614.8124673366547, 0.6812561028211241)]"
      ]
     },
     "execution_count": 12,
     "metadata": {},
     "output_type": "execute_result"
    }
   ],
   "source": [
    "experiment_result"
   ]
  },
  {
   "cell_type": "markdown",
   "metadata": {
    "application/vnd.databricks.v1+cell": {
     "cellMetadata": {},
     "inputWidgets": {},
     "nuid": "ae9b0366-ee4a-4333-ba92-c0215544f43d",
     "showTitle": false,
     "title": ""
    }
   },
   "source": [
    "#### Second Run"
   ]
  },
  {
   "cell_type": "code",
   "execution_count": 0,
   "metadata": {
    "application/vnd.databricks.v1+cell": {
     "cellMetadata": {
      "byteLimit": 2048000,
      "rowLimit": 10000
     },
     "inputWidgets": {},
     "nuid": "3122ed3b-cba9-4606-b11e-af2cfea23c4d",
     "showTitle": false,
     "title": ""
    }
   },
   "outputs": [],
   "source": [
    "experiment_result2 = []\n",
    "\n",
    "for i in range(12, 19):\n",
    "  \n",
    "  model_data_train_rdd = model_data_train.rdd.repartition(i)\n",
    "\n",
    "  model_data_train_rdd.foreach(lambda x: None)\n",
    "  \n",
    "  model_time_pairs = model_data_train_rdd.mapPartitions(build_model).collect()\n",
    "\n",
    "  total_training_time = sum(time for _, time in model_time_pairs)\n",
    "\n",
    "  models = [model for model, _ in model_time_pairs]\n",
    "\n",
    "  def predict(instance):\n",
    "\n",
    "      inst_features = np.array(instance[:-1]).reshape(1, -1)\n",
    "\n",
    "      predictions = [model.predict(inst_features)[0] for model in models]\n",
    "\n",
    "      return predictions\n",
    "\n",
    "  def transform(instance):\n",
    "\n",
    "      predictions = predict(instance)\n",
    "\n",
    "      prediction_mode = max(set(predictions), key=predictions.count)\n",
    "\n",
    "      return Row(**instance.asDict(), raw_prediction=float(prediction_mode))\n",
    "\n",
    "  pred_df = model_data_test_rdd.map(transform).toDF()\n",
    "\n",
    "  evaluator = MulticlassClassificationEvaluator(labelCol='label', predictionCol='raw_prediction', metricName='accuracy')\n",
    "\n",
    "  accuracy = evaluator.evaluate(pred_df)\n",
    "\n",
    "  experiment_result2.append((i, total_training_time, accuracy))"
   ]
  },
  {
   "cell_type": "code",
   "execution_count": 0,
   "metadata": {
    "application/vnd.databricks.v1+cell": {
     "cellMetadata": {
      "byteLimit": 2048000,
      "rowLimit": 10000
     },
     "inputWidgets": {},
     "nuid": "3fceac37-05c0-41e9-8cc8-9deb3ba8ce28",
     "showTitle": false,
     "title": ""
    }
   },
   "outputs": [
    {
     "output_type": "execute_result",
     "data": {
      "text/plain": [
       "[(12, 1993.32186293602, 0.6807480305584296),\n",
       " (13, 1767.0959606170654, 0.6809015107211186),\n",
       " (14, 1711.0552854537964, 0.681052344674106),\n",
       " (15, 1817.6820983886719, 0.6806368897509653),\n",
       " (16, 1701.1968863010406, 0.681047052254703),\n",
       " (17, 1761.1004042625427, 0.6808009547524603),\n",
       " (18, 1664.6080026626587, 0.6812561028211241)]"
      ]
     },
     "execution_count": 14,
     "metadata": {},
     "output_type": "execute_result"
    }
   ],
   "source": [
    "experiment_result2"
   ]
  },
  {
   "cell_type": "markdown",
   "metadata": {
    "application/vnd.databricks.v1+cell": {
     "cellMetadata": {},
     "inputWidgets": {},
     "nuid": "d1a5c1d0-3247-4755-a4ea-54e1513c57a8",
     "showTitle": false,
     "title": ""
    }
   },
   "source": [
    "#### Third Run"
   ]
  },
  {
   "cell_type": "code",
   "execution_count": 0,
   "metadata": {
    "application/vnd.databricks.v1+cell": {
     "cellMetadata": {
      "byteLimit": 2048000,
      "rowLimit": 10000
     },
     "inputWidgets": {},
     "nuid": "7c23c400-40be-47dd-b9e9-a2cd1465ca22",
     "showTitle": false,
     "title": ""
    }
   },
   "outputs": [],
   "source": [
    "experiment_result3 = []\n",
    "\n",
    "for i in range(12, 19):\n",
    "  \n",
    "  model_data_train_rdd = model_data_train.rdd.repartition(i)\n",
    "\n",
    "  model_data_train_rdd.foreach(lambda x: None)\n",
    "  \n",
    "  model_time_pairs = model_data_train_rdd.mapPartitions(build_model).collect()\n",
    "\n",
    "  total_training_time = sum(time for _, time in model_time_pairs)\n",
    "\n",
    "  models = [model for model, _ in model_time_pairs]\n",
    "\n",
    "  def predict(instance):\n",
    "\n",
    "      inst_features = np.array(instance[:-1]).reshape(1, -1)\n",
    "\n",
    "      predictions = [model.predict(inst_features)[0] for model in models]\n",
    "\n",
    "      return predictions\n",
    "\n",
    "  def transform(instance):\n",
    "\n",
    "      predictions = predict(instance)\n",
    "\n",
    "      prediction_mode = max(set(predictions), key=predictions.count)\n",
    "\n",
    "      return Row(**instance.asDict(), raw_prediction=float(prediction_mode))\n",
    "\n",
    "  pred_df = model_data_test_rdd.map(transform).toDF()\n",
    "\n",
    "  evaluator = MulticlassClassificationEvaluator(labelCol='label', predictionCol='raw_prediction', metricName='accuracy')\n",
    "\n",
    "  accuracy = evaluator.evaluate(pred_df)\n",
    "\n",
    "  experiment_result3.append((i, total_training_time, accuracy))"
   ]
  },
  {
   "cell_type": "code",
   "execution_count": 0,
   "metadata": {
    "application/vnd.databricks.v1+cell": {
     "cellMetadata": {
      "byteLimit": 2048000,
      "rowLimit": 10000
     },
     "inputWidgets": {},
     "nuid": "efbf4915-9f6e-4418-baf8-1eca10bc53ed",
     "showTitle": false,
     "title": ""
    }
   },
   "outputs": [
    {
     "output_type": "execute_result",
     "data": {
      "text/plain": [
       "[(12, 1729.1690936088562, 0.6807480305584296),\n",
       " (13, 1503.5163140296936, 0.6809015107211186),\n",
       " (14, 1657.3742847442627, 0.681052344674106),\n",
       " (15, 1591.2598428726196, 0.6806368897509653),\n",
       " (16, 1562.6638007164001, 0.6810444060450015),\n",
       " (17, 1580.8067739009857, 0.6808009547524603),\n",
       " (18, 1564.171893119812, 0.6812561028211241)]"
      ]
     },
     "execution_count": 16,
     "metadata": {},
     "output_type": "execute_result"
    }
   ],
   "source": [
    "experiment_result3"
   ]
  },
  {
   "cell_type": "markdown",
   "metadata": {
    "application/vnd.databricks.v1+cell": {
     "cellMetadata": {},
     "inputWidgets": {},
     "nuid": "615257cf-b506-41c8-ad4c-ab638c6ccd2e",
     "showTitle": false,
     "title": ""
    }
   },
   "source": [
    "#### Fourth Run"
   ]
  },
  {
   "cell_type": "code",
   "execution_count": 0,
   "metadata": {
    "application/vnd.databricks.v1+cell": {
     "cellMetadata": {
      "byteLimit": 2048000,
      "rowLimit": 10000
     },
     "inputWidgets": {},
     "nuid": "7aaf7049-f504-4d07-a775-d970abc1e078",
     "showTitle": false,
     "title": ""
    }
   },
   "outputs": [],
   "source": [
    "experiment_result4 = []\n",
    "\n",
    "for i in range(12, 19):\n",
    "  \n",
    "  model_data_train_rdd = model_data_train.rdd.repartition(i)\n",
    "\n",
    "  model_data_train_rdd.foreach(lambda x: None)\n",
    "  \n",
    "  model_time_pairs = model_data_train_rdd.mapPartitions(build_model).collect()\n",
    "\n",
    "  total_training_time = sum(time for _, time in model_time_pairs)\n",
    "\n",
    "  models = [model for model, _ in model_time_pairs]\n",
    "\n",
    "  def predict(instance):\n",
    "\n",
    "      inst_features = np.array(instance[:-1]).reshape(1, -1)\n",
    "\n",
    "      predictions = [model.predict(inst_features)[0] for model in models]\n",
    "\n",
    "      return predictions\n",
    "\n",
    "  def transform(instance):\n",
    "\n",
    "      predictions = predict(instance)\n",
    "\n",
    "      prediction_mode = max(set(predictions), key=predictions.count)\n",
    "\n",
    "      return Row(**instance.asDict(), raw_prediction=float(prediction_mode))\n",
    "\n",
    "  pred_df = model_data_test_rdd.map(transform).toDF()\n",
    "\n",
    "  evaluator = MulticlassClassificationEvaluator(labelCol='label', predictionCol='raw_prediction', metricName='accuracy')\n",
    "\n",
    "  accuracy = evaluator.evaluate(pred_df)\n",
    "\n",
    "  experiment_result4.append((i, total_training_time, accuracy))"
   ]
  },
  {
   "cell_type": "code",
   "execution_count": 0,
   "metadata": {
    "application/vnd.databricks.v1+cell": {
     "cellMetadata": {
      "byteLimit": 2048000,
      "rowLimit": 10000
     },
     "inputWidgets": {},
     "nuid": "08fd8d7e-ac93-4c17-b6f8-df0913d6add7",
     "showTitle": false,
     "title": ""
    }
   },
   "outputs": [
    {
     "output_type": "execute_result",
     "data": {
      "text/plain": [
       "[(12, 1707.4415373802185, 0.6807480305584296),\n",
       " (13, 1704.5869710445404, 0.6809015107211186),\n",
       " (14, 1773.0476002693176, 0.681052344674106),\n",
       " (15, 1739.208847284317, 0.6806368897509653),\n",
       " (16, 1608.547538280487, 0.6810444060450015),\n",
       " (17, 1599.1185183525085, 0.6807983085427588),\n",
       " (18, 1495.352554321289, 0.6812561028211241)]"
      ]
     },
     "execution_count": 18,
     "metadata": {},
     "output_type": "execute_result"
    }
   ],
   "source": [
    "experiment_result4"
   ]
  },
  {
   "cell_type": "code",
   "execution_count": 0,
   "metadata": {
    "application/vnd.databricks.v1+cell": {
     "cellMetadata": {
      "byteLimit": 2048000,
      "rowLimit": 10000
     },
     "inputWidgets": {},
     "nuid": "4b72d3ae-a8b5-4792-aee8-5d59d80c6ca3",
     "showTitle": false,
     "title": ""
    }
   },
   "outputs": [],
   "source": [
    "def calculate_averages_list(a, b, c, d):\n",
    "\n",
    "  result = []\n",
    "\n",
    "  for tuple_a, tuple_b, tuple_c, tuple_d in zip(a, b, c, d):\n",
    "\n",
    "    average_second = (tuple_a[1] + tuple_b[1] + tuple_c[1] + tuple_d[1]) / 4\n",
    "\n",
    "    average_third = (tuple_a[2] + tuple_b[2] + tuple_c[2] + tuple_d[2]) / 4\n",
    "\n",
    "    result_tuple = (tuple_a[0], average_second, average_third)\n",
    "\n",
    "    result.append(result_tuple)\n",
    "\n",
    "  return result\n",
    "\n",
    "result = calculate_averages_list(experiment_result, experiment_result2, experiment_result3, experiment_result4)"
   ]
  },
  {
   "cell_type": "code",
   "execution_count": 0,
   "metadata": {
    "application/vnd.databricks.v1+cell": {
     "cellMetadata": {
      "byteLimit": 2048000,
      "rowLimit": 10000
     },
     "inputWidgets": {},
     "nuid": "ee0c5f2c-0e27-4883-bde5-a4f40f78fa22",
     "showTitle": false,
     "title": ""
    }
   },
   "outputs": [],
   "source": [
    "df2 = pd.DataFrame(result, columns = ['no of partitions', 'total training time', 'avg accuracy'])"
   ]
  },
  {
   "cell_type": "code",
   "execution_count": 0,
   "metadata": {
    "application/vnd.databricks.v1+cell": {
     "cellMetadata": {
      "byteLimit": 2048000,
      "rowLimit": 10000
     },
     "inputWidgets": {},
     "nuid": "e49941bb-b7cb-420a-b485-44fb6efea106",
     "showTitle": false,
     "title": ""
    }
   },
   "outputs": [
    {
     "output_type": "execute_result",
     "data": {
      "text/html": [
       "<div>\n",
       "<style scoped>\n",
       "    .dataframe tbody tr th:only-of-type {\n",
       "        vertical-align: middle;\n",
       "    }\n",
       "\n",
       "    .dataframe tbody tr th {\n",
       "        vertical-align: top;\n",
       "    }\n",
       "\n",
       "    .dataframe thead th {\n",
       "        text-align: right;\n",
       "    }\n",
       "</style>\n",
       "<table border=\"1\" class=\"dataframe\">\n",
       "  <thead>\n",
       "    <tr style=\"text-align: right;\">\n",
       "      <th></th>\n",
       "      <th>no of partitions</th>\n",
       "      <th>total training time</th>\n",
       "      <th>avg accuracy</th>\n",
       "      <th>avg training time</th>\n",
       "    </tr>\n",
       "  </thead>\n",
       "  <tbody>\n",
       "    <tr>\n",
       "      <th>0</th>\n",
       "      <td>12</td>\n",
       "      <td>1788.019795</td>\n",
       "      <td>68.074935</td>\n",
       "      <td>149.001650</td>\n",
       "    </tr>\n",
       "    <tr>\n",
       "      <th>1</th>\n",
       "      <td>13</td>\n",
       "      <td>1629.748243</td>\n",
       "      <td>68.090151</td>\n",
       "      <td>125.365249</td>\n",
       "    </tr>\n",
       "    <tr>\n",
       "      <th>2</th>\n",
       "      <td>14</td>\n",
       "      <td>1678.474312</td>\n",
       "      <td>68.105301</td>\n",
       "      <td>119.891022</td>\n",
       "    </tr>\n",
       "    <tr>\n",
       "      <th>3</th>\n",
       "      <td>15</td>\n",
       "      <td>1673.663214</td>\n",
       "      <td>68.063689</td>\n",
       "      <td>111.577548</td>\n",
       "    </tr>\n",
       "    <tr>\n",
       "      <th>4</th>\n",
       "      <td>16</td>\n",
       "      <td>1648.529933</td>\n",
       "      <td>68.104507</td>\n",
       "      <td>103.033121</td>\n",
       "    </tr>\n",
       "  </tbody>\n",
       "</table>\n",
       "</div>"
      ],
      "text/plain": [
       "   no of partitions  total training time  avg accuracy  avg training time\n",
       "0                12          1788.019795     68.074935         149.001650\n",
       "1                13          1629.748243     68.090151         125.365249\n",
       "2                14          1678.474312     68.105301         119.891022\n",
       "3                15          1673.663214     68.063689         111.577548\n",
       "4                16          1648.529933     68.104507         103.033121"
      ]
     },
     "execution_count": 30,
     "metadata": {},
     "output_type": "execute_result"
    }
   ],
   "source": [
    "df2['avg accuracy'] = df2['avg accuracy']*100\n",
    "\n",
    "df2['avg training time'] = df2['total training time'] / df2['no of partitions']\n",
    "\n",
    "df2.head()"
   ]
  },
  {
   "cell_type": "code",
   "execution_count": 0,
   "metadata": {
    "application/vnd.databricks.v1+cell": {
     "cellMetadata": {
      "byteLimit": 2048000,
      "rowLimit": 10000
     },
     "inputWidgets": {},
     "nuid": "de0d9e4b-c43e-4b00-bbe3-6a72c0e7d84a",
     "showTitle": false,
     "title": ""
    }
   },
   "outputs": [
    {
     "output_type": "display_data",
     "data": {
      "image/png": "[encoded data removed]",
      "text/plain": [
       "<Figure size 640x480 with 1 Axes>"
      ]
     },
     "metadata": {},
     "output_type": "display_data"
    }
   ],
   "source": [
    "plt.plot(df2['no of partitions'], df2['avg training time'], label = 'Training Time')\n",
    "\n",
    "plt.plot(df2['no of partitions'], df2['avg accuracy'], label = 'Accuracy')\n",
    "\n",
    "plt.xlabel('No of Partitions')\n",
    "\n",
    "plt.ylabel('Average Training Time (s) / Accuracy (%)')\n",
    "\n",
    "plt.title('Ensemble Effect Check')\n",
    "\n",
    "plt.legend(loc = 'upper left', bbox_to_anchor = (1, 1))\n",
    "\n",
    "plt.show()"
   ]
  },
  {
   "cell_type": "markdown",
   "metadata": {
    "application/vnd.databricks.v1+cell": {
     "cellMetadata": {},
     "inputWidgets": {},
     "nuid": "6e861a9a-b7d7-4c99-9d2c-67f448cee192",
     "showTitle": false,
     "title": ""
    }
   },
   "source": [
    "No improvement in accuracy was observed as the number of partitions increased. However, the average training time kept decreasing with increasing number of partitions"
   ]
  },
  {
   "cell_type": "markdown",
   "metadata": {
    "application/vnd.databricks.v1+cell": {
     "cellMetadata": {},
     "inputWidgets": {},
     "nuid": "41eaa789-75a7-4c8c-88ab-a361fdf6ff2f",
     "showTitle": false,
     "title": ""
    }
   },
   "source": []
  },
  {
   "cell_type": "markdown",
   "metadata": {
    "application/vnd.databricks.v1+cell": {
     "cellMetadata": {},
     "inputWidgets": {},
     "nuid": "eaff8990-9bf4-4859-b0fc-22e6a9c7caaf",
     "showTitle": false,
     "title": ""
    }
   },
   "source": [
    "### Distribution of classes in each partition"
   ]
  },
  {
   "cell_type": "code",
   "execution_count": 0,
   "metadata": {
    "application/vnd.databricks.v1+cell": {
     "cellMetadata": {
      "byteLimit": 2048000,
      "rowLimit": 10000
     },
     "inputWidgets": {},
     "nuid": "6ce2dea2-b505-49da-a93b-1e1019903bdf",
     "showTitle": false,
     "title": ""
    }
   },
   "outputs": [],
   "source": [
    "def count_in_partition(idx, iterator):\n",
    "    import collections\n",
    "    count = collections.defaultdict(int)\n",
    "    for row in iterator:\n",
    "        count[row['sentiment']] += 1\n",
    "    return [(idx, dict(count))]"
   ]
  },
  {
   "cell_type": "code",
   "execution_count": 0,
   "metadata": {
    "application/vnd.databricks.v1+cell": {
     "cellMetadata": {
      "byteLimit": 2048000,
      "rowLimit": 10000
     },
     "inputWidgets": {},
     "nuid": "b342d9a6-a052-4a1b-8500-e90fe1144cad",
     "showTitle": false,
     "title": ""
    }
   },
   "outputs": [
    {
     "output_type": "execute_result",
     "data": {
      "text/plain": [
       "[(0, {'neutral': 20394, 'negative': 12848, 'positive': 15638}),\n",
       " (1, {'positive': 15681, 'neutral': 20301, 'negative': 12892}),\n",
       " (2, {'positive': 15901, 'negative': 12915, 'neutral': 20055}),\n",
       " (3, {'positive': 15688, 'neutral': 20343, 'negative': 12844}),\n",
       " (4, {'positive': 15436, 'negative': 13030, 'neutral': 20396}),\n",
       " (5, {'negative': 12864, 'positive': 15637, 'neutral': 20371}),\n",
       " (6, {'positive': 15750, 'neutral': 20461, 'negative': 12679}),\n",
       " (7, {'neutral': 20717, 'positive': 15507, 'negative': 12657}),\n",
       " (8, {'negative': 12715, 'neutral': 20337, 'positive': 15834}),\n",
       " (9, {'positive': 15824, 'neutral': 20515, 'negative': 12551}),\n",
       " (10, {'negative': 12806, 'neutral': 20335, 'positive': 15759}),\n",
       " (11, {'neutral': 20188, 'positive': 15799, 'negative': 12909}),\n",
       " (12, {'neutral': 20234, 'negative': 12769, 'positive': 15889}),\n",
       " (13, {'positive': 15679, 'negative': 12851, 'neutral': 20352}),\n",
       " (14, {'negative': 12639, 'neutral': 20240, 'positive': 16001}),\n",
       " (15, {'positive': 16057, 'negative': 12811, 'neutral': 20032}),\n",
       " (16, {'positive': 15909, 'negative': 12767, 'neutral': 20215}),\n",
       " (17, {'negative': 12880, 'neutral': 20429, 'positive': 15574})]"
      ]
     },
     "execution_count": 33,
     "metadata": {},
     "output_type": "execute_result"
    }
   ],
   "source": [
    "train_df_rdd = train_df.rdd.repartition(18)\n",
    "\n",
    "partition_counts = train_df_rdd.mapPartitionsWithIndex(count_in_partition).collect()\n",
    "\n",
    "partition_counts"
   ]
  },
  {
   "cell_type": "code",
   "execution_count": 0,
   "metadata": {
    "application/vnd.databricks.v1+cell": {
     "cellMetadata": {
      "byteLimit": 2048000,
      "rowLimit": 10000
     },
     "inputWidgets": {},
     "nuid": "4b88ba16-2734-446e-a947-8726b3a07ff3",
     "showTitle": false,
     "title": ""
    }
   },
   "outputs": [
    {
     "output_type": "execute_result",
     "data": {
      "text/html": [
       "<div>\n",
       "<style scoped>\n",
       "    .dataframe tbody tr th:only-of-type {\n",
       "        vertical-align: middle;\n",
       "    }\n",
       "\n",
       "    .dataframe tbody tr th {\n",
       "        vertical-align: top;\n",
       "    }\n",
       "\n",
       "    .dataframe thead th {\n",
       "        text-align: right;\n",
       "    }\n",
       "</style>\n",
       "<table border=\"1\" class=\"dataframe\">\n",
       "  <thead>\n",
       "    <tr style=\"text-align: right;\">\n",
       "      <th></th>\n",
       "      <th>ID</th>\n",
       "      <th>Neutral</th>\n",
       "      <th>Positive</th>\n",
       "      <th>Negative</th>\n",
       "    </tr>\n",
       "  </thead>\n",
       "  <tbody>\n",
       "    <tr>\n",
       "      <th>0</th>\n",
       "      <td>0</td>\n",
       "      <td>20394</td>\n",
       "      <td>15638</td>\n",
       "      <td>12848</td>\n",
       "    </tr>\n",
       "    <tr>\n",
       "      <th>1</th>\n",
       "      <td>1</td>\n",
       "      <td>20301</td>\n",
       "      <td>15681</td>\n",
       "      <td>12892</td>\n",
       "    </tr>\n",
       "    <tr>\n",
       "      <th>2</th>\n",
       "      <td>2</td>\n",
       "      <td>20055</td>\n",
       "      <td>15901</td>\n",
       "      <td>12915</td>\n",
       "    </tr>\n",
       "    <tr>\n",
       "      <th>3</th>\n",
       "      <td>3</td>\n",
       "      <td>20343</td>\n",
       "      <td>15688</td>\n",
       "      <td>12844</td>\n",
       "    </tr>\n",
       "    <tr>\n",
       "      <th>4</th>\n",
       "      <td>4</td>\n",
       "      <td>20396</td>\n",
       "      <td>15436</td>\n",
       "      <td>13030</td>\n",
       "    </tr>\n",
       "  </tbody>\n",
       "</table>\n",
       "</div>"
      ],
      "text/plain": [
       "   ID  Neutral  Positive  Negative\n",
       "0   0    20394     15638     12848\n",
       "1   1    20301     15681     12892\n",
       "2   2    20055     15901     12915\n",
       "3   3    20343     15688     12844\n",
       "4   4    20396     15436     13030"
      ]
     },
     "execution_count": 34,
     "metadata": {},
     "output_type": "execute_result"
    }
   ],
   "source": [
    "df3 = pd.DataFrame({\n",
    "    'ID': [item[0] for item in partition_counts],\n",
    "    'Neutral': [item[1]['neutral'] for item in partition_counts],\n",
    "    'Positive': [item[1]['positive'] for item in partition_counts],\n",
    "    'Negative': [item[1]['negative'] for item in partition_counts]\n",
    "})\n",
    "\n",
    "df3.head()"
   ]
  },
  {
   "cell_type": "code",
   "execution_count": 0,
   "metadata": {
    "application/vnd.databricks.v1+cell": {
     "cellMetadata": {
      "byteLimit": 2048000,
      "rowLimit": 10000
     },
     "inputWidgets": {},
     "nuid": "783083d6-979e-4c0a-84b8-da25ab43de3c",
     "showTitle": false,
     "title": ""
    }
   },
   "outputs": [
    {
     "output_type": "display_data",
     "data": {
      "image/png": "[encoded data removed]",
      "text/plain": [
       "<Figure size 640x480 with 1 Axes>"
      ]
     },
     "metadata": {},
     "output_type": "display_data"
    }
   ],
   "source": [
    "partitions = np.arange(18)\n",
    "\n",
    "plt.scatter(df3['ID'], df3['Positive'], color = 'green', label = 'Positive')\n",
    "\n",
    "plt.scatter(df3['ID'], df3['Negative'], color ='red', label = 'Negative')\n",
    "\n",
    "plt.scatter(df3['ID'], df3['Neutral'], color = 'blue', label = 'Neutral')\n",
    "\n",
    "plt.xticks(partitions)\n",
    "\n",
    "plt.title('Distribution of Sentiments Classes in Partitions')\n",
    "\n",
    "plt.xlabel('Partitions')\n",
    "\n",
    "plt.ylabel('Count')\n",
    "\n",
    "plt.legend(loc = 'upper left', bbox_to_anchor = (1, 1))\n",
    "\n",
    "plt.show()"
   ]
  },
  {
   "cell_type": "markdown",
   "metadata": {
    "application/vnd.databricks.v1+cell": {
     "cellMetadata": {},
     "inputWidgets": {},
     "nuid": "5f4371b2-dac3-419e-a22c-169274fa4cfa",
     "showTitle": false,
     "title": ""
    }
   },
   "source": [
    "\n",
    "The distribution of each sentiment class is nearly identical across the 18 partitions "
   ]
  },
  {
   "cell_type": "markdown",
   "metadata": {
    "application/vnd.databricks.v1+cell": {
     "cellMetadata": {},
     "inputWidgets": {},
     "nuid": "10f62849-20a8-4e41-80dd-8a051d99a551",
     "showTitle": false,
     "title": ""
    }
   },
   "source": [
    "### Size Up Experiment"
   ]
  },
  {
   "cell_type": "markdown",
   "metadata": {
    "application/vnd.databricks.v1+cell": {
     "cellMetadata": {},
     "inputWidgets": {},
     "nuid": "9e5ca185-e9ef-4d47-9488-3dc928e5ef95",
     "showTitle": false,
     "title": ""
    }
   },
   "source": [
    "#### First Run"
   ]
  },
  {
   "cell_type": "code",
   "execution_count": 0,
   "metadata": {
    "application/vnd.databricks.v1+cell": {
     "cellMetadata": {
      "byteLimit": 2048000,
      "rowLimit": 10000
     },
     "inputWidgets": {},
     "nuid": "2558c8bb-919b-487a-8e61-21262dd4ed3f",
     "showTitle": false,
     "title": ""
    }
   },
   "outputs": [],
   "source": [
    "experiment_result5 = []\n",
    "\n",
    "sample_list = [0.1, 0.2, 0.3, 0.4, 0.5, 0.6, 0.7, 0.8, 0.9, 1.0]\n",
    "\n",
    "for i in sample_list:\n",
    "  \n",
    "  sampled_train_rdd = model_data_train_rdd.sample(False, i)\n",
    "  \n",
    "  sampled_train_rdd = sampled_train_rdd.repartition(18)\n",
    "  \n",
    "  model_time_pairs = sampled_train_rdd.mapPartitions(build_model).collect()\n",
    "  \n",
    "  total_training_time = sum(time for _, time in model_time_pairs)\n",
    "  \n",
    "  experiment_result5.append((i, total_training_time))"
   ]
  },
  {
   "cell_type": "code",
   "execution_count": 0,
   "metadata": {
    "application/vnd.databricks.v1+cell": {
     "cellMetadata": {
      "byteLimit": 2048000,
      "rowLimit": 10000
     },
     "inputWidgets": {},
     "nuid": "15da2a49-c2ff-4d31-a80f-18f6fd708475",
     "showTitle": false,
     "title": ""
    }
   },
   "outputs": [
    {
     "output_type": "execute_result",
     "data": {
      "text/plain": [
       "[(0.1, 56.58634543418884),\n",
       " (0.2, 292.26844239234924),\n",
       " (0.3, 400.319872379303),\n",
       " (0.4, 772.1286914348602),\n",
       " (0.5, 803.9578368663788),\n",
       " (0.6, 1063.779626607895),\n",
       " (0.7, 1294.8386180400848),\n",
       " (0.8, 1462.8523228168488),\n",
       " (0.9, 1389.662532567978),\n",
       " (1.0, 1643.1150197982788)]"
      ]
     },
     "execution_count": 38,
     "metadata": {},
     "output_type": "execute_result"
    }
   ],
   "source": [
    "experiment_result5"
   ]
  },
  {
   "cell_type": "markdown",
   "metadata": {
    "application/vnd.databricks.v1+cell": {
     "cellMetadata": {},
     "inputWidgets": {},
     "nuid": "52dea2e5-0c6a-4de7-83ee-4aab43f38417",
     "showTitle": false,
     "title": ""
    }
   },
   "source": [
    "#### Second Run"
   ]
  },
  {
   "cell_type": "code",
   "execution_count": 0,
   "metadata": {
    "application/vnd.databricks.v1+cell": {
     "cellMetadata": {
      "byteLimit": 2048000,
      "rowLimit": 10000
     },
     "inputWidgets": {},
     "nuid": "b2a15e1a-a139-4d9e-969d-61b411835f97",
     "showTitle": false,
     "title": ""
    }
   },
   "outputs": [],
   "source": [
    "experiment_result6 = []\n",
    "\n",
    "sample_list = [0.1, 0.2, 0.3, 0.4, 0.5, 0.6, 0.7, 0.8, 0.9, 1.0]\n",
    "\n",
    "for i in sample_list:\n",
    "  \n",
    "  sampled_train_rdd = model_data_train_rdd.sample(False, i)\n",
    "  \n",
    "  sampled_train_rdd = sampled_train_rdd.repartition(18)\n",
    "  \n",
    "  model_time_pairs = sampled_train_rdd.mapPartitions(build_model).collect()\n",
    "  \n",
    "  total_training_time = sum(time for _, time in model_time_pairs)\n",
    "  \n",
    "  experiment_result6.append((i, total_training_time))"
   ]
  },
  {
   "cell_type": "code",
   "execution_count": 0,
   "metadata": {
    "application/vnd.databricks.v1+cell": {
     "cellMetadata": {
      "byteLimit": 2048000,
      "rowLimit": 10000
     },
     "inputWidgets": {},
     "nuid": "7a27c4b2-a557-4853-985e-8a0b667cc787",
     "showTitle": false,
     "title": ""
    }
   },
   "outputs": [
    {
     "output_type": "execute_result",
     "data": {
      "text/plain": [
       "[(0.1, 35.65650963783264),\n",
       " (0.2, 141.90135288238525),\n",
       " (0.3, 276.23421931266785),\n",
       " (0.4, 462.2063567638397),\n",
       " (0.5, 655.9277877807617),\n",
       " (0.6, 797.9795796871185),\n",
       " (0.7, 990.4201173782349),\n",
       " (0.8, 1176.8952322006226),\n",
       " (0.9, 1300.3573043346405),\n",
       " (1.0, 1548.2011456489563)]"
      ]
     },
     "execution_count": 41,
     "metadata": {},
     "output_type": "execute_result"
    }
   ],
   "source": [
    "experiment_result6"
   ]
  },
  {
   "cell_type": "code",
   "execution_count": 0,
   "metadata": {
    "application/vnd.databricks.v1+cell": {
     "cellMetadata": {
      "byteLimit": 2048000,
      "rowLimit": 10000
     },
     "inputWidgets": {},
     "nuid": "14527508-3702-4b93-8c43-4495f904591d",
     "showTitle": false,
     "title": ""
    }
   },
   "outputs": [],
   "source": [
    "def calculate_averages_list(a, b):\n",
    "\n",
    "  result = []\n",
    "\n",
    "  for tuple_a, tuple_b in zip(a, b):\n",
    "\n",
    "    average_second = (tuple_a[1] + tuple_b[1]) / 2\n",
    "\n",
    "    result_tuple = (tuple_a[0], average_second)\n",
    "\n",
    "    result.append(result_tuple)\n",
    "\n",
    "  return result\n",
    "\n",
    "result2 = calculate_averages_list(experiment_result5, experiment_result6)"
   ]
  },
  {
   "cell_type": "code",
   "execution_count": 0,
   "metadata": {
    "application/vnd.databricks.v1+cell": {
     "cellMetadata": {
      "byteLimit": 2048000,
      "rowLimit": 10000
     },
     "inputWidgets": {},
     "nuid": "2c95a0bc-fa0f-4b2e-a2d1-1a6df64f689a",
     "showTitle": false,
     "title": ""
    }
   },
   "outputs": [
    {
     "output_type": "execute_result",
     "data": {
      "text/html": [
       "<div>\n",
       "<style scoped>\n",
       "    .dataframe tbody tr th:only-of-type {\n",
       "        vertical-align: middle;\n",
       "    }\n",
       "\n",
       "    .dataframe tbody tr th {\n",
       "        vertical-align: top;\n",
       "    }\n",
       "\n",
       "    .dataframe thead th {\n",
       "        text-align: right;\n",
       "    }\n",
       "</style>\n",
       "<table border=\"1\" class=\"dataframe\">\n",
       "  <thead>\n",
       "    <tr style=\"text-align: right;\">\n",
       "      <th></th>\n",
       "      <th>size of data</th>\n",
       "      <th>Total Training Time</th>\n",
       "    </tr>\n",
       "  </thead>\n",
       "  <tbody>\n",
       "    <tr>\n",
       "      <th>0</th>\n",
       "      <td>0.1</td>\n",
       "      <td>46.121428</td>\n",
       "    </tr>\n",
       "    <tr>\n",
       "      <th>1</th>\n",
       "      <td>0.2</td>\n",
       "      <td>217.084898</td>\n",
       "    </tr>\n",
       "    <tr>\n",
       "      <th>2</th>\n",
       "      <td>0.3</td>\n",
       "      <td>338.277046</td>\n",
       "    </tr>\n",
       "    <tr>\n",
       "      <th>3</th>\n",
       "      <td>0.4</td>\n",
       "      <td>617.167524</td>\n",
       "    </tr>\n",
       "    <tr>\n",
       "      <th>4</th>\n",
       "      <td>0.5</td>\n",
       "      <td>729.942812</td>\n",
       "    </tr>\n",
       "    <tr>\n",
       "      <th>5</th>\n",
       "      <td>0.6</td>\n",
       "      <td>930.879603</td>\n",
       "    </tr>\n",
       "    <tr>\n",
       "      <th>6</th>\n",
       "      <td>0.7</td>\n",
       "      <td>1142.629368</td>\n",
       "    </tr>\n",
       "    <tr>\n",
       "      <th>7</th>\n",
       "      <td>0.8</td>\n",
       "      <td>1319.873778</td>\n",
       "    </tr>\n",
       "    <tr>\n",
       "      <th>8</th>\n",
       "      <td>0.9</td>\n",
       "      <td>1345.009918</td>\n",
       "    </tr>\n",
       "    <tr>\n",
       "      <th>9</th>\n",
       "      <td>1.0</td>\n",
       "      <td>1595.658083</td>\n",
       "    </tr>\n",
       "  </tbody>\n",
       "</table>\n",
       "</div>"
      ],
      "text/plain": [
       "   size of data  Total Training Time\n",
       "0           0.1            46.121428\n",
       "1           0.2           217.084898\n",
       "2           0.3           338.277046\n",
       "3           0.4           617.167524\n",
       "4           0.5           729.942812\n",
       "5           0.6           930.879603\n",
       "6           0.7          1142.629368\n",
       "7           0.8          1319.873778\n",
       "8           0.9          1345.009918\n",
       "9           1.0          1595.658083"
      ]
     },
     "execution_count": 51,
     "metadata": {},
     "output_type": "execute_result"
    }
   ],
   "source": [
    "df4 = pd.DataFrame(result2, columns = ['size of data', 'Total Training Time'])\n",
    "\n",
    "df4"
   ]
  },
  {
   "cell_type": "code",
   "execution_count": 0,
   "metadata": {
    "application/vnd.databricks.v1+cell": {
     "cellMetadata": {
      "byteLimit": 2048000,
      "rowLimit": 10000
     },
     "inputWidgets": {},
     "nuid": "f8802c76-d6f9-4cf5-b362-191df8d359f9",
     "showTitle": false,
     "title": ""
    }
   },
   "outputs": [
    {
     "output_type": "execute_result",
     "data": {
      "text/html": [
       "<div>\n",
       "<style scoped>\n",
       "    .dataframe tbody tr th:only-of-type {\n",
       "        vertical-align: middle;\n",
       "    }\n",
       "\n",
       "    .dataframe tbody tr th {\n",
       "        vertical-align: top;\n",
       "    }\n",
       "\n",
       "    .dataframe thead th {\n",
       "        text-align: right;\n",
       "    }\n",
       "</style>\n",
       "<table border=\"1\" class=\"dataframe\">\n",
       "  <thead>\n",
       "    <tr style=\"text-align: right;\">\n",
       "      <th></th>\n",
       "      <th>size of data</th>\n",
       "      <th>Total Training Time</th>\n",
       "      <th>average training time</th>\n",
       "      <th>Real size up</th>\n",
       "      <th>Linear size up</th>\n",
       "    </tr>\n",
       "  </thead>\n",
       "  <tbody>\n",
       "    <tr>\n",
       "      <th>0</th>\n",
       "      <td>0.1</td>\n",
       "      <td>46.121428</td>\n",
       "      <td>2.562302</td>\n",
       "      <td>1.000000</td>\n",
       "      <td>1</td>\n",
       "    </tr>\n",
       "    <tr>\n",
       "      <th>1</th>\n",
       "      <td>0.2</td>\n",
       "      <td>217.084898</td>\n",
       "      <td>12.060272</td>\n",
       "      <td>4.706812</td>\n",
       "      <td>2</td>\n",
       "    </tr>\n",
       "    <tr>\n",
       "      <th>2</th>\n",
       "      <td>0.3</td>\n",
       "      <td>338.277046</td>\n",
       "      <td>18.793169</td>\n",
       "      <td>7.334488</td>\n",
       "      <td>3</td>\n",
       "    </tr>\n",
       "    <tr>\n",
       "      <th>3</th>\n",
       "      <td>0.4</td>\n",
       "      <td>617.167524</td>\n",
       "      <td>34.287085</td>\n",
       "      <td>13.381362</td>\n",
       "      <td>4</td>\n",
       "    </tr>\n",
       "    <tr>\n",
       "      <th>4</th>\n",
       "      <td>0.5</td>\n",
       "      <td>729.942812</td>\n",
       "      <td>40.552378</td>\n",
       "      <td>15.826544</td>\n",
       "      <td>5</td>\n",
       "    </tr>\n",
       "    <tr>\n",
       "      <th>5</th>\n",
       "      <td>0.6</td>\n",
       "      <td>930.879603</td>\n",
       "      <td>51.715534</td>\n",
       "      <td>20.183235</td>\n",
       "      <td>6</td>\n",
       "    </tr>\n",
       "    <tr>\n",
       "      <th>6</th>\n",
       "      <td>0.7</td>\n",
       "      <td>1142.629368</td>\n",
       "      <td>63.479409</td>\n",
       "      <td>24.774371</td>\n",
       "      <td>7</td>\n",
       "    </tr>\n",
       "    <tr>\n",
       "      <th>7</th>\n",
       "      <td>0.8</td>\n",
       "      <td>1319.873778</td>\n",
       "      <td>73.326321</td>\n",
       "      <td>28.617366</td>\n",
       "      <td>8</td>\n",
       "    </tr>\n",
       "    <tr>\n",
       "      <th>8</th>\n",
       "      <td>0.9</td>\n",
       "      <td>1345.009918</td>\n",
       "      <td>74.722773</td>\n",
       "      <td>29.162365</td>\n",
       "      <td>9</td>\n",
       "    </tr>\n",
       "    <tr>\n",
       "      <th>9</th>\n",
       "      <td>1.0</td>\n",
       "      <td>1595.658083</td>\n",
       "      <td>88.647671</td>\n",
       "      <td>34.596893</td>\n",
       "      <td>10</td>\n",
       "    </tr>\n",
       "  </tbody>\n",
       "</table>\n",
       "</div>"
      ],
      "text/plain": [
       "   size of data  Total Training Time  ...  Real size up  Linear size up\n",
       "0           0.1            46.121428  ...      1.000000               1\n",
       "1           0.2           217.084898  ...      4.706812               2\n",
       "2           0.3           338.277046  ...      7.334488               3\n",
       "3           0.4           617.167524  ...     13.381362               4\n",
       "4           0.5           729.942812  ...     15.826544               5\n",
       "5           0.6           930.879603  ...     20.183235               6\n",
       "6           0.7          1142.629368  ...     24.774371               7\n",
       "7           0.8          1319.873778  ...     28.617366               8\n",
       "8           0.9          1345.009918  ...     29.162365               9\n",
       "9           1.0          1595.658083  ...     34.596893              10\n",
       "\n",
       "[10 rows x 5 columns]"
      ]
     },
     "execution_count": 52,
     "metadata": {},
     "output_type": "execute_result"
    }
   ],
   "source": [
    "df4['average training time'] = df4['Total Training Time'] / 18\n",
    "\n",
    "df4['Real size up'] = df4['average training time'] / df4.iloc[0, 2]\n",
    "\n",
    "df4['Linear size up'] = [1, 2, 3, 4, 5, 6, 7, 8, 9, 10]\n",
    "\n",
    "df4"
   ]
  },
  {
   "cell_type": "code",
   "execution_count": 0,
   "metadata": {
    "application/vnd.databricks.v1+cell": {
     "cellMetadata": {
      "byteLimit": 2048000,
      "rowLimit": 10000
     },
     "inputWidgets": {},
     "nuid": "1048c2b5-ff18-4d6d-89e8-b191ba7b55ee",
     "showTitle": false,
     "title": ""
    }
   },
   "outputs": [
    {
     "output_type": "display_data",
     "data": {
      "image/png": "[encoded data removed]",
      "text/plain": [
       "<Figure size 640x480 with 1 Axes>"
      ]
     },
     "metadata": {},
     "output_type": "display_data"
    }
   ],
   "source": [
    "plt.plot(df4['size of data'], df4['Real size up'], label = 'Real size-up')\n",
    "\n",
    "plt.plot(df4['size of data'], df4['Linear size up'], label = 'Linear size-up')\n",
    "\n",
    "plt.xlabel('Size of data (%)')\n",
    "\n",
    "plt.ylabel('Size-up')\n",
    "\n",
    "plt.title('Size-up of a Local-based model with SVM')\n",
    "\n",
    "plt.legend()\n",
    "\n",
    "plt.show()"
   ]
  },
  {
   "cell_type": "markdown",
   "metadata": {
    "application/vnd.databricks.v1+cell": {
     "cellMetadata": {},
     "inputWidgets": {},
     "nuid": "a3379d15-ef84-47af-8a63-15e502750486",
     "showTitle": false,
     "title": ""
    }
   },
   "source": [
    "Our local approach doesn't scale linearly with increasing data sizes. This is primarily due to the time complexity of the Support Vector Machine Algorithm"
   ]
  }
 ],
 "metadata": {
  "application/vnd.databricks.v1+notebook": {
   "dashboards": [],
   "language": "python",
   "notebookMetadata": {
    "pythonIndentUnit": 2
   },
   "notebookName": "Experimentation Local Approach 2",
   "widgets": {}
  }
 },
 "nbformat": 4,
 "nbformat_minor": 0
}
