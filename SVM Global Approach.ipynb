{
 "cells": [
  {
   "cell_type": "markdown",
   "metadata": {
    "application/vnd.databricks.v1+cell": {
     "cellMetadata": {},
     "inputWidgets": {},
     "nuid": "5d180cde-8b85-43c6-af48-5e9812ef45c7",
     "showTitle": false,
     "title": ""
    }
   },
   "source": [
    "### Import the necessaries libraries"
   ]
  },
  {
   "cell_type": "code",
   "execution_count": 0,
   "metadata": {
    "application/vnd.databricks.v1+cell": {
     "cellMetadata": {
      "byteLimit": 2048000,
      "rowLimit": 10000
     },
     "inputWidgets": {},
     "nuid": "84a93fb5-7498-48f4-8131-90f28c975fb3",
     "showTitle": false,
     "title": ""
    }
   },
   "outputs": [],
   "source": [
    "from pyspark.ml.feature import StringIndexer, Word2Vec\n",
    "import numpy as np\n",
    "from pyspark.ml import Pipeline\n",
    "from pyspark.sql import functions as F\n",
    "from pyspark.ml.evaluation import MulticlassClassificationEvaluator\n",
    "from pyspark.ml.feature import VectorAssembler\n",
    "from pyspark.ml.classification import OneVsRest\n",
    "from pyspark.ml.classification import LinearSVC"
   ]
  },
  {
   "cell_type": "markdown",
   "metadata": {
    "application/vnd.databricks.v1+cell": {
     "cellMetadata": {},
     "inputWidgets": {},
     "nuid": "43449acd-81f6-4ccd-bf64-c2f244ce245e",
     "showTitle": false,
     "title": ""
    }
   },
   "source": [
    "### Read the dataset"
   ]
  },
  {
   "cell_type": "code",
   "execution_count": 0,
   "metadata": {
    "application/vnd.databricks.v1+cell": {
     "cellMetadata": {
      "byteLimit": 2048000,
      "rowLimit": 10000
     },
     "inputWidgets": {},
     "nuid": "368e7cc0-3fa3-4487-9eda-85eca237898e",
     "showTitle": false,
     "title": ""
    }
   },
   "outputs": [],
   "source": [
    "df = spark.read.parquet('/mnt/2024-team20/labelled_datasets_parquet')"
   ]
  },
  {
   "cell_type": "markdown",
   "metadata": {
    "application/vnd.databricks.v1+cell": {
     "cellMetadata": {},
     "inputWidgets": {},
     "nuid": "948c4fc9-8b46-481f-9128-bdc6bce1108c",
     "showTitle": false,
     "title": ""
    }
   },
   "source": [
    "### Create a Pipeline\n",
    "\n",
    "This pipeline comprises several stages for processing text data:\n",
    "- **Word2Vec**: Converts lemmatized tokens into vectors of numerical features, facilitating machine learning on textual input.\n",
    "- **StringIndexer**: Encodes string sentiment labels into numerical indices, a necessary step for model training.\n",
    "- **OneVsRest (OVR)**: Applies a one-vs-rest strategy using an SVM (Support Vector Machine) classifier to handle multi-class classification tasks.\n"
   ]
  },
  {
   "cell_type": "code",
   "execution_count": 0,
   "metadata": {
    "application/vnd.databricks.v1+cell": {
     "cellMetadata": {
      "byteLimit": 2048000,
      "rowLimit": 10000
     },
     "inputWidgets": {},
     "nuid": "335584da-fe11-4c63-84fe-83ef65eb35da",
     "showTitle": false,
     "title": ""
    }
   },
   "outputs": [],
   "source": [
    "word2Vec = Word2Vec(vectorSize = 100, minCount = 0, inputCol = 'lemmatized_tokens', outputCol = 'features')\n",
    "\n",
    "stringIndexer = StringIndexer(inputCol = 'sentiment', outputCol = 'label')\n",
    "\n",
    "lsvc = LinearSVC(maxIter = 10, regParam = 0.1)\n",
    "\n",
    "ovr = OneVsRest(classifier = lsvc, labelCol = 'label', featuresCol = 'features')\n",
    "\n",
    "pipeline = Pipeline(stages = [word2Vec, stringIndexer, ovr])"
   ]
  },
  {
   "cell_type": "markdown",
   "metadata": {
    "application/vnd.databricks.v1+cell": {
     "cellMetadata": {},
     "inputWidgets": {},
     "nuid": "16b25d24-8cff-4e67-97c9-762693936e54",
     "showTitle": false,
     "title": ""
    }
   },
   "source": [
    "### Split the data into Train and Test"
   ]
  },
  {
   "cell_type": "code",
   "execution_count": 0,
   "metadata": {
    "application/vnd.databricks.v1+cell": {
     "cellMetadata": {
      "byteLimit": 2048000,
      "rowLimit": 10000
     },
     "inputWidgets": {},
     "nuid": "1b3f4be8-71fc-4110-8dc9-911cbf90a73d",
     "showTitle": false,
     "title": ""
    }
   },
   "outputs": [],
   "source": [
    "train_df, test_df = df.randomSplit([0.7, 0.3], seed = 0)"
   ]
  },
  {
   "cell_type": "markdown",
   "metadata": {
    "application/vnd.databricks.v1+cell": {
     "cellMetadata": {},
     "inputWidgets": {},
     "nuid": "756c66f8-dd6b-4dfa-af1d-ef2f2609e183",
     "showTitle": false,
     "title": ""
    }
   },
   "source": [
    "### Fit the Model on the Training Data"
   ]
  },
  {
   "cell_type": "code",
   "execution_count": 0,
   "metadata": {
    "application/vnd.databricks.v1+cell": {
     "cellMetadata": {
      "byteLimit": 2048000,
      "rowLimit": 10000
     },
     "inputWidgets": {},
     "nuid": "8815bab0-06cc-4edf-a47e-6e26c92fa6c7",
     "showTitle": false,
     "title": ""
    }
   },
   "outputs": [],
   "source": [
    "model = pipeline.fit(train_df)"
   ]
  },
  {
   "cell_type": "markdown",
   "metadata": {
    "application/vnd.databricks.v1+cell": {
     "cellMetadata": {},
     "inputWidgets": {},
     "nuid": "81f49c15-1020-4bf9-bd2b-fda75902df52",
     "showTitle": false,
     "title": ""
    }
   },
   "source": [
    "### Save the Model to Storage"
   ]
  },
  {
   "cell_type": "code",
   "execution_count": 0,
   "metadata": {
    "application/vnd.databricks.v1+cell": {
     "cellMetadata": {
      "byteLimit": 2048000,
      "rowLimit": 10000
     },
     "inputWidgets": {},
     "nuid": "6e0be7ca-ac56-46d6-9787-73eb7d14926c",
     "showTitle": false,
     "title": ""
    }
   },
   "outputs": [],
   "source": [
    "model.save('/mnt/2024-team20/model')"
   ]
  },
  {
   "cell_type": "markdown",
   "metadata": {
    "application/vnd.databricks.v1+cell": {
     "cellMetadata": {},
     "inputWidgets": {},
     "nuid": "50b50a73-6583-44c7-a34f-a8a95d711587",
     "showTitle": false,
     "title": ""
    }
   },
   "source": [
    "### Make Predictions on Test Data\n",
    "\n",
    "The trained model is applied to the test dataset (`test_df`) to generate predictions."
   ]
  },
  {
   "cell_type": "code",
   "execution_count": 0,
   "metadata": {
    "application/vnd.databricks.v1+cell": {
     "cellMetadata": {
      "byteLimit": 2048000,
      "rowLimit": 10000
     },
     "inputWidgets": {},
     "nuid": "9aaee849-3188-49bd-8afa-970f23ff255f",
     "showTitle": false,
     "title": ""
    }
   },
   "outputs": [],
   "source": [
    "predictions = model.transform(test_df)"
   ]
  },
  {
   "cell_type": "markdown",
   "metadata": {
    "application/vnd.databricks.v1+cell": {
     "cellMetadata": {},
     "inputWidgets": {},
     "nuid": "a7483d59-85e7-45ec-a489-b923828f038d",
     "showTitle": false,
     "title": ""
    }
   },
   "source": [
    "### Estimate Model Accuracy on Test Data"
   ]
  },
  {
   "cell_type": "code",
   "execution_count": 0,
   "metadata": {
    "application/vnd.databricks.v1+cell": {
     "cellMetadata": {
      "byteLimit": 2048000,
      "rowLimit": 10000
     },
     "inputWidgets": {},
     "nuid": "663d1cd1-dde0-4c79-a933-c6572a0f9deb",
     "showTitle": false,
     "title": ""
    }
   },
   "outputs": [
    {
     "output_type": "stream",
     "name": "stdout",
     "output_type": "stream",
     "text": [
      "Test Accuracy: 0.6497926694698848\n"
     ]
    }
   ],
   "source": [
    "evaluator = MulticlassClassificationEvaluator(labelCol = 'label', predictionCol = 'prediction', metricName = 'accuracy')\n",
    "\n",
    "accuracy = evaluator.evaluate(predictions)\n",
    "\n",
    "print('Test Accuracy:', accuracy)"
   ]
  }
 ],
 "metadata": {
  "application/vnd.databricks.v1+notebook": {
   "dashboards": [],
   "language": "python",
   "notebookMetadata": {
    "pythonIndentUnit": 2
   },
   "notebookName": "SVM Global Approach",
   "widgets": {}
  }
 },
 "nbformat": 4,
 "nbformat_minor": 0
}
