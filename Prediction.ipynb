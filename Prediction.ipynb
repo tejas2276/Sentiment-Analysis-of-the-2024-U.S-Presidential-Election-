{
 "cells": [
  {
   "cell_type": "markdown",
   "metadata": {
    "application/vnd.databricks.v1+cell": {
     "cellMetadata": {},
     "inputWidgets": {},
     "nuid": "5453be84-8a13-485b-8384-842bdd2b0904",
     "showTitle": false,
     "title": ""
    }
   },
   "source": [
    "### Import the necessary libraries"
   ]
  },
  {
   "cell_type": "code",
   "execution_count": 0,
   "metadata": {
    "application/vnd.databricks.v1+cell": {
     "cellMetadata": {
      "byteLimit": 2048000,
      "rowLimit": 10000
     },
     "inputWidgets": {},
     "nuid": "d39c9f21-989c-40cf-9e9e-f1abd1a6d5e7",
     "showTitle": false,
     "title": ""
    }
   },
   "outputs": [],
   "source": [
    "from pyspark.ml import PipelineModel\n",
    "import pandas as pd\n",
    "import matplotlib.pyplot as plt\n",
    "from pyspark.sql import functions as F"
   ]
  },
  {
   "cell_type": "markdown",
   "metadata": {
    "application/vnd.databricks.v1+cell": {
     "cellMetadata": {},
     "inputWidgets": {},
     "nuid": "162f54a0-6bde-4e9b-8715-99cad8ab7f52",
     "showTitle": false,
     "title": ""
    }
   },
   "source": [
    "### Read the dataset"
   ]
  },
  {
   "cell_type": "code",
   "execution_count": 0,
   "metadata": {
    "application/vnd.databricks.v1+cell": {
     "cellMetadata": {
      "byteLimit": 2048000,
      "rowLimit": 10000
     },
     "inputWidgets": {},
     "nuid": "0f1eb7c4-cb5a-4e5a-9d86-d460535997ff",
     "showTitle": false,
     "title": ""
    }
   },
   "outputs": [],
   "source": [
    "df = spark.read.parquet('/mnt/2024-team20/cleaned_reddit_comments_parquet')"
   ]
  },
  {
   "cell_type": "markdown",
   "metadata": {
    "application/vnd.databricks.v1+cell": {
     "cellMetadata": {},
     "inputWidgets": {},
     "nuid": "bc04501b-1e66-40fe-8ce4-e87a71fe6aeb",
     "showTitle": false,
     "title": ""
    }
   },
   "source": [
    "### Load the model pipeline"
   ]
  },
  {
   "cell_type": "code",
   "execution_count": 0,
   "metadata": {
    "application/vnd.databricks.v1+cell": {
     "cellMetadata": {
      "byteLimit": 2048000,
      "rowLimit": 10000
     },
     "inputWidgets": {},
     "nuid": "a6308389-5cc6-4f73-bc95-6aee5b3c1734",
     "showTitle": false,
     "title": ""
    }
   },
   "outputs": [],
   "source": [
    "pipeline_model = PipelineModel.load('/mnt/2024-team20/model')"
   ]
  },
  {
   "cell_type": "markdown",
   "metadata": {
    "application/vnd.databricks.v1+cell": {
     "cellMetadata": {},
     "inputWidgets": {},
     "nuid": "645cc86c-aa54-420d-9010-ec10721e4cd8",
     "showTitle": false,
     "title": ""
    }
   },
   "source": [
    "### Transform the dataset using the model pipeline"
   ]
  },
  {
   "cell_type": "code",
   "execution_count": 0,
   "metadata": {
    "application/vnd.databricks.v1+cell": {
     "cellMetadata": {
      "byteLimit": 2048000,
      "rowLimit": 10000
     },
     "inputWidgets": {},
     "nuid": "ccb8eab7-8e20-4ff0-a174-3830bb20eb89",
     "showTitle": false,
     "title": ""
    }
   },
   "outputs": [],
   "source": [
    "predicted_df = pipeline_model.transform(df)"
   ]
  },
  {
   "cell_type": "code",
   "execution_count": 0,
   "metadata": {
    "application/vnd.databricks.v1+cell": {
     "cellMetadata": {
      "byteLimit": 2048000,
      "rowLimit": 10000
     },
     "inputWidgets": {},
     "nuid": "7a561d70-b5ac-440e-9fcf-2fdefa5239f6",
     "showTitle": false,
     "title": ""
    }
   },
   "outputs": [
    {
     "output_type": "stream",
     "name": "stdout",
     "output_type": "stream",
     "text": [
      "+----------+\n|prediction|\n+----------+\n|1.0       |\n|1.0       |\n|0.0       |\n|0.0       |\n|2.0       |\n+----------+\nonly showing top 5 rows\n\n"
     ]
    }
   ],
   "source": [
    "predicted_df.select(\"prediction\").show(5, truncate=False)"
   ]
  },
  {
   "cell_type": "markdown",
   "metadata": {
    "application/vnd.databricks.v1+cell": {
     "cellMetadata": {},
     "inputWidgets": {},
     "nuid": "c5beee03-715e-4389-aad3-54a27d58ccd0",
     "showTitle": false,
     "title": ""
    }
   },
   "source": [
    "### Assign Labels to the Predictions"
   ]
  },
  {
   "cell_type": "code",
   "execution_count": 0,
   "metadata": {
    "application/vnd.databricks.v1+cell": {
     "cellMetadata": {
      "byteLimit": 2048000,
      "rowLimit": 10000
     },
     "inputWidgets": {},
     "nuid": "50aca958-525e-48f0-bdd2-583785e7a705",
     "showTitle": false,
     "title": ""
    }
   },
   "outputs": [],
   "source": [
    "predicted_df = predicted_df.withColumn('label', \n",
    "                                       F.when(F.col('prediction') == 0.0, 'neutral')\n",
    "                                       .when(F.col('prediction') == 1.0, 'positive')\n",
    "                                       .otherwise('negative'))"
   ]
  },
  {
   "cell_type": "code",
   "execution_count": 0,
   "metadata": {
    "application/vnd.databricks.v1+cell": {
     "cellMetadata": {
      "byteLimit": 2048000,
      "rowLimit": 10000
     },
     "inputWidgets": {},
     "nuid": "8c303c02-0d96-48b9-bb85-d07301b85424",
     "showTitle": false,
     "title": ""
    }
   },
   "outputs": [
    {
     "output_type": "stream",
     "name": "stdout",
     "output_type": "stream",
     "text": [
      "+----------+--------+\n|prediction|label   |\n+----------+--------+\n|1.0       |positive|\n|1.0       |positive|\n|0.0       |neutral |\n|0.0       |neutral |\n|2.0       |negative|\n+----------+--------+\nonly showing top 5 rows\n\n"
     ]
    }
   ],
   "source": [
    "predicted_df.select('prediction', 'label').show(5, truncate=False)"
   ]
  },
  {
   "cell_type": "markdown",
   "metadata": {
    "application/vnd.databricks.v1+cell": {
     "cellMetadata": {},
     "inputWidgets": {},
     "nuid": "35c81be0-9134-4b26-85b1-63387fb645a1",
     "showTitle": false,
     "title": ""
    }
   },
   "source": [
    "### Grouping By Label "
   ]
  },
  {
   "cell_type": "code",
   "execution_count": 0,
   "metadata": {
    "application/vnd.databricks.v1+cell": {
     "cellMetadata": {
      "byteLimit": 2048000,
      "rowLimit": 10000
     },
     "inputWidgets": {},
     "nuid": "dfb9f1af-b8d3-48fc-bfb9-519d358d3967",
     "showTitle": false,
     "title": ""
    }
   },
   "outputs": [
    {
     "output_type": "stream",
     "name": "stdout",
     "output_type": "stream",
     "text": [
      "+--------+-----+\n|   label|count|\n+--------+-----+\n|positive|65592|\n| neutral|14346|\n|negative|63345|\n+--------+-----+\n\n"
     ]
    }
   ],
   "source": [
    "label_counts = predicted_df.groupBy('label').count()\n",
    "\n",
    "label_counts.show()"
   ]
  },
  {
   "cell_type": "markdown",
   "metadata": {
    "application/vnd.databricks.v1+cell": {
     "cellMetadata": {},
     "inputWidgets": {},
     "nuid": "05656547-f50c-4a6e-9ad2-99238a23c949",
     "showTitle": false,
     "title": ""
    }
   },
   "source": [
    "### Collecting Result to the driver node "
   ]
  },
  {
   "cell_type": "code",
   "execution_count": 0,
   "metadata": {
    "application/vnd.databricks.v1+cell": {
     "cellMetadata": {
      "byteLimit": 2048000,
      "rowLimit": 10000
     },
     "inputWidgets": {},
     "nuid": "68dc6552-0404-4964-9d38-053f3c7301a3",
     "showTitle": false,
     "title": ""
    }
   },
   "outputs": [],
   "source": [
    "label_counts_data = label_counts.collect()"
   ]
  },
  {
   "cell_type": "markdown",
   "metadata": {
    "application/vnd.databricks.v1+cell": {
     "cellMetadata": {},
     "inputWidgets": {},
     "nuid": "a76a9b58-5727-4372-a230-91c85eac8b03",
     "showTitle": false,
     "title": ""
    }
   },
   "source": [
    "### Plotting"
   ]
  },
  {
   "cell_type": "code",
   "execution_count": 0,
   "metadata": {
    "application/vnd.databricks.v1+cell": {
     "cellMetadata": {
      "byteLimit": 2048000,
      "rowLimit": 10000
     },
     "inputWidgets": {},
     "nuid": "4f0fb082-2046-4325-a1b4-f02276daf28c",
     "showTitle": false,
     "title": ""
    }
   },
   "outputs": [
    {
     "output_type": "display_data",
     "data": {
      "image/png": "[encoded data removed]",
      "text/plain": [
       "<Figure size 640x480 with 1 Axes>"
      ]
     },
     "metadata": {},
     "output_type": "display_data"
    }
   ],
   "source": [
    "\n",
    "labels = [row['label'] for row in label_counts_data]\n",
    "\n",
    "counts = [row['count'] for row in label_counts_data]\n",
    "\n",
    "color = (34/255, 114/255, 180/255)\n",
    "\n",
    "plt.bar(labels, counts, width = 0.5, color = color)\n",
    "\n",
    "plt.xlabel('Sentiment Labels')\n",
    "\n",
    "plt.ylabel('Count')\n",
    "\n",
    "plt.title('Count of Sentiment Labels')\n",
    "\n",
    "plt.show()\n"
   ]
  },
  {
   "cell_type": "code",
   "execution_count": 0,
   "metadata": {
    "application/vnd.databricks.v1+cell": {
     "cellMetadata": {},
     "inputWidgets": {},
     "nuid": "12939c54-884d-4196-89bc-9fd5af2ac85f",
     "showTitle": false,
     "title": ""
    }
   },
   "outputs": [],
   "source": []
  }
 ],
 "metadata": {
  "application/vnd.databricks.v1+notebook": {
   "dashboards": [],
   "language": "python",
   "notebookMetadata": {
    "pythonIndentUnit": 2
   },
   "notebookName": "Prediction",
   "widgets": {}
  }
 },
 "nbformat": 4,
 "nbformat_minor": 0
}
